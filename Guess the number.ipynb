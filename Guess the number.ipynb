{
 "cells": [
  {
   "cell_type": "markdown",
   "metadata": {},
   "source": [
    "This game gets you to guess a number. To do this we need to use a python \"module\" to make a random number. Modules are bundles of code that have been written that make it so we don't have to do everything ourselves. \n",
    "\n",
    "The module we're importing will be called \"random\". To run the code click on it and then press `Ctrl + Enter`."
   ]
  },
  {
   "cell_type": "code",
   "execution_count": null,
   "metadata": {
    "collapsed": false
   },
   "outputs": [],
   "source": [
    "import random\n",
    "print(\"Module imported\")"
   ]
  },
  {
   "cell_type": "markdown",
   "metadata": {},
   "source": [
    "Test out this random module by clicking the code in the following cell and pressing `Ctrl + Enter` multiple times. Notice that the number change each time and it is never higher than 20 and never lower than 1.\n",
    "\n",
    "Have a go changing the variables `lowest_number` and `highest_number`."
   ]
  },
  {
   "cell_type": "code",
   "execution_count": null,
   "metadata": {
    "collapsed": false
   },
   "outputs": [],
   "source": [
    "lowest_number = 1\n",
    "highest_number = 20\n",
    "random.randint(\n",
    "    lowest_number, highest_number)"
   ]
  },
  {
   "cell_type": "markdown",
   "metadata": {},
   "source": [
    "This game wants to be polite. It wants to address you by name. Run the code in below (by clicking on it and pressing `Ctrl + Enter`) and then tell the program your name."
   ]
  },
  {
   "cell_type": "code",
   "execution_count": null,
   "metadata": {
    "collapsed": false
   },
   "outputs": [],
   "source": [
    "print(\"Hello! What is your name?\")\n",
    "my_name = input()\n",
    "print(\n",
    "    \"Well, {}, in this game I am going to think of a number between {} and {}.\".format(\n",
    "        my_name, lowest_number, highest_number\n",
    "    ))"
   ]
  },
  {
   "cell_type": "markdown",
   "metadata": {},
   "source": [
    "Whatever you just wrote above for your name has been stored in the variable `my_name`. Run the code below to see what is currently saved within `my_name`."
   ]
  },
  {
   "cell_type": "code",
   "execution_count": null,
   "metadata": {
    "collapsed": false
   },
   "outputs": [],
   "source": [
    "my_name"
   ]
  },
  {
   "cell_type": "markdown",
   "metadata": {},
   "source": [
    "Alright now it is time to set the program up to think of a number and then ask you to guess it. Don't peak (at least not the first time you play)."
   ]
  },
  {
   "cell_type": "code",
   "execution_count": null,
   "metadata": {
    "collapsed": false
   },
   "outputs": [],
   "source": [
    "number = random.randint(\n",
    "    lowest_number, highest_number)\n",
    "print(\n",
    "    \"Hi {}! I have just thought of a number between {} and {}.\".format(\n",
    "        my_name, lowest_number, highest_number))"
   ]
  },
  {
   "cell_type": "markdown",
   "metadata": {},
   "source": [
    "Run the code below, play the game. See how quickly you can guess the number. If you want to play again make sure to get the program to guess a new number by running the code just above again."
   ]
  },
  {
   "cell_type": "code",
   "execution_count": null,
   "metadata": {
    "collapsed": false
   },
   "outputs": [],
   "source": [
    "guesses_taken = 0\n",
    "\n",
    "while guesses_taken < 6:\n",
    "    print('Take a guess.') # There are four spaces in front of print.\n",
    "    guess = input()\n",
    "    guess = int(guess)\n",
    "\n",
    "    guesses_taken = guesses_taken + 1\n",
    "\n",
    "    if guess < number:\n",
    "        print('Your guess is too low.') # There are eight spaces in front of print.\n",
    "\n",
    "    if guess > number:\n",
    "        print('Your guess is too high.')\n",
    "\n",
    "    if guess == number:\n",
    "        break\n",
    "\n",
    "if guess == number:\n",
    "    print(\n",
    "        \"Good job, {}! You guessed my number in {} guesses!\".format(\n",
    "            my_name, guesses_taken))\n",
    "\n",
    "if guess != number:\n",
    "    print(\"Nope. The number I was thinking of was {}\".format(number))"
   ]
  },
  {
   "cell_type": "markdown",
   "metadata": {},
   "source": [
    "Now that you have played the game, go back and see if you can fiddle with the game a bit. See if you can:\n",
    "\n",
    " * Change some of the things the program says back to you\n",
    " * Make the number thought of be between 1 and 50\n",
    " * Make it so you can have at least 10 guesses before the game is over\n",
    " * Maybe even see if you can take a peak at the number before you play\n",
    " "
   ]
  }
 ],
 "metadata": {
  "hide_input": false,
  "kernelspec": {
   "display_name": "Python 3",
   "language": "python",
   "name": "python3"
  },
  "language_info": {
   "codemirror_mode": {
    "name": "ipython",
    "version": 3
   },
   "file_extension": ".py",
   "mimetype": "text/x-python",
   "name": "python",
   "nbconvert_exporter": "python",
   "pygments_lexer": "ipython3",
   "version": "3.5.1"
  },
  "toc": {
   "toc_cell": false,
   "toc_number_sections": true,
   "toc_threshold": 6,
   "toc_window_display": false
  }
 },
 "nbformat": 4,
 "nbformat_minor": 0
}
